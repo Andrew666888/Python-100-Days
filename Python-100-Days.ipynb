{
 "cells": [
  {
   "cell_type": "markdown",
   "metadata": {},
   "source": [
    "## Day01 - 初识`Python`"
   ]
  },
  {
   "cell_type": "markdown",
   "metadata": {},
   "source": [
    "### 1.1 环境安装"
   ]
  },
  {
   "cell_type": "markdown",
   "metadata": {},
   "source": [
    "建议直接安装 `Anaconda` ，不过由于清华大学等一系列镜像源都已经不在支持 `Anaconda` 。所以目前都需要到官网进行下载：\n",
    "\n",
    "下载地址：[Anaconda官网](https://www.anaconda.com/distribution/)"
   ]
  },
  {
   "cell_type": "markdown",
   "metadata": {},
   "source": [
    "#### 1.1.1 Windows 环境"
   ]
  },
  {
   "cell_type": "markdown",
   "metadata": {},
   "source": [
    "1. 下载 Windows 版本的 `Anaconda`；\n",
    "2. 执行安装，环境默认就好；\n",
    "3. 不建议连同 Vscode 一起安装，个人都是分开安装"
   ]
  },
  {
   "cell_type": "markdown",
   "metadata": {},
   "source": [
    "环境变量：\n",
    "- D:\\Coding\\anaconda\n",
    "- D:\\Coding\\anaconda\\Scripts\n",
    "- D:\\Coding\\anaconda\\Library\\bin"
   ]
  },
  {
   "cell_type": "markdown",
   "metadata": {},
   "source": [
    "#### 1.1.2 Linux 环境"
   ]
  },
  {
   "cell_type": "markdown",
   "metadata": {},
   "source": [
    "1. 下载 Linux 版本的 Anaconda；\n",
    "2. bash ./xxx-anaconda.sh\n",
    "3. 其余部分直接默认就好；"
   ]
  },
  {
   "cell_type": "markdown",
   "metadata": {},
   "source": [
    "环境变量：\n",
    "\n",
    "在 `~/.bashrc` 或 `~/.zshrc` 中添加：\n",
    "\n",
    "```shell\n",
    "export PATH=/home/weisheng/anaconda3/bin:$PATH\n",
    "```"
   ]
  },
  {
   "cell_type": "markdown",
   "metadata": {},
   "source": [
    "---"
   ]
  },
  {
   "cell_type": "markdown",
   "metadata": {},
   "source": [
    "### 1.2 编程工具"
   ]
  },
  {
   "cell_type": "markdown",
   "metadata": {},
   "source": [
    " 推荐个人使用比较多的工具，以及相应的软件配置。大家有更好的编程工具，也希望分享。\n",
    " \n",
    " 工具：\n",
    " 1. 微软的 Visual Studio Code\n",
    " 2. Jupyterlab"
   ]
  },
  {
   "cell_type": "markdown",
   "metadata": {},
   "source": [
    "#### 1.2.1 VScode"
   ]
  },
  {
   "cell_type": "markdown",
   "metadata": {},
   "source": [
    "常用插件：\n",
    "- ms-python.python\n",
    "- Code Runner\n",
    "- Code Spell Checker\n",
    "- Guides\n",
    "- Setting Sync\n",
    "- SFTP\n",
    "- Visual Studio IntelliCode\n",
    "- Xcode Default Theme"
   ]
  },
  {
   "cell_type": "markdown",
   "metadata": {},
   "source": [
    "首选项设置：\n",
    "\n",
    "```json\n",
    "{\n",
    "    \"editor.renderIndentGuides\": false,\n",
    "    \"workbench.iconTheme\": \"material-icon-theme\",\n",
    "    \"workbench.colorTheme\": \"Xcode Partial (Dark)\",\n",
    "    \"editor.fontSize\": 16,\n",
    "    \"editor.lineHeight\": 22,\n",
    "    \"editor.formatOnSave\": true,\n",
    "    \"editor.fontFamily\": \"Menlo, Consolas, 'Courier New', monospace\",\n",
    "    \"python.autoComplete.addBrackets\": true,\n",
    "    \"python.linting.flake8Enabled\": true,\n",
    "    \"python.linting.pylintEnabled\": false,\n",
    "    \"python.linting.flake8Args\": [\n",
    "        \"--max-line-length=160\"\n",
    "    ],\n",
    "    \"python.formatting.autopep8Args\": [\n",
    "        \"--max-line-length=160\"\n",
    "    ],\n",
    "    \"git.ignoreMissingGitWarning\": false,\n",
    "    \"files.autoGuessEncoding\": true,\n",
    "    \"files.eol\": \"\\n\",\n",
    "    \"[markdown]\": {\n",
    "        \"editor.quickSuggestions\": true\n",
    "    },\n",
    "    \"files.autoSave\": \"off\",\n",
    "    \"search.followSymlinks\": false,\n",
    "    \"gitlens.advanced.messages\": {\n",
    "        \"suppressShowKeyBindingsNotice\": true\n",
    "    },\n",
    "    \"gitlens.defaultDateStyle\": \"absolute\",\n",
    "    \"editor.highlightActiveIndentGuide\": true,\n",
    "    // Guides设置\n",
    "    \"guides.normal.color.dark\": \"rgba(91, 91, 91, 0.6)\",\n",
    "    \"guides.normal.color.light\": \"rgba(220, 220, 220, 0.7)\",\n",
    "    \"guides.active.color.dark\": \"rgba(210, 110, 210, 0.6)\",\n",
    "    \"guides.active.color.light\": \"rgba(200, 100, 100, 0.7)\",\n",
    "    \"guides.active.style\": \"dashed\",\n",
    "    \"guides.normal.style\": \"dashed\",\n",
    "    \"guides.stack.style\": \"dashed\",\n",
    "    \"code-runner.runInTerminal\": true,\n",
    "    \"terminal.integrated.cursorStyle\": \"line\",\n",
    "    \"C_Cpp.updateChannel\": \"Insiders\",\n",
    "    \"terminal.integrated.shell.windows\": \"C:\\\\Windows\\\\System32\\\\cmd.exe\",\n",
    "    \"powermode.enabled\": true,\n",
    "    \"powermode.presets\": \"flames\",\n",
    "    \"editor.suggestSelection\": \"first\",\n",
    "    \"vsintellicode.modify.editor.suggestSelection\": \"automaticallyOverrodeDefaultValue\"\n",
    "}\n",
    "```"
   ]
  },
  {
   "cell_type": "markdown",
   "metadata": {},
   "source": [
    "#### 1.2.2 `Jupyterlab`"
   ]
  },
  {
   "cell_type": "markdown",
   "metadata": {},
   "source": [
    "`Jupyterlab` 是 `Juyter notebook` 的升级版本，安装方式如下：\n",
    "\n",
    "```shell\n",
    "conda install jupyterlab\n",
    "```"
   ]
  },
  {
   "cell_type": "markdown",
   "metadata": {},
   "source": [
    "---"
   ]
  },
  {
   "cell_type": "markdown",
   "metadata": {},
   "source": [
    "### 1.3 今日练习"
   ]
  },
  {
   "cell_type": "markdown",
   "metadata": {},
   "source": [
    "1、Python交互环境中查看下面的代码结果，并将内容翻译成中文。"
   ]
  },
  {
   "cell_type": "code",
   "execution_count": 1,
   "metadata": {},
   "outputs": [
    {
     "name": "stdout",
     "output_type": "stream",
     "text": [
      "The Zen of Python, by Tim Peters\n",
      "\n",
      "Beautiful is better than ugly.\n",
      "Explicit is better than implicit.\n",
      "Simple is better than complex.\n",
      "Complex is better than complicated.\n",
      "Flat is better than nested.\n",
      "Sparse is better than dense.\n",
      "Readability counts.\n",
      "Special cases aren't special enough to break the rules.\n",
      "Although practicality beats purity.\n",
      "Errors should never pass silently.\n",
      "Unless explicitly silenced.\n",
      "In the face of ambiguity, refuse the temptation to guess.\n",
      "There should be one-- and preferably only one --obvious way to do it.\n",
      "Although that way may not be obvious at first unless you're Dutch.\n",
      "Now is better than never.\n",
      "Although never is often better than *right* now.\n",
      "If the implementation is hard to explain, it's a bad idea.\n",
      "If the implementation is easy to explain, it may be a good idea.\n",
      "Namespaces are one honking great idea -- let's do more of those!\n"
     ]
    }
   ],
   "source": [
    "import this"
   ]
  },
  {
   "cell_type": "markdown",
   "metadata": {},
   "source": [
    "2、 学习使用turtle在屏幕上绘制图形。"
   ]
  },
  {
   "cell_type": "markdown",
   "metadata": {},
   "source": [
    "代码文件：[小猪佩琪](https://github.com/blueberryc/Python-100-Days/blob/master/code/peppa_pig.py)\n",
    "\n",
    "还未研究出如何在 `Jupyterlab` 中使用 `turtle` 包..."
   ]
  },
  {
   "cell_type": "code",
   "execution_count": null,
   "metadata": {},
   "outputs": [],
   "source": []
  }
 ],
 "metadata": {
  "kernelspec": {
   "display_name": "Python 3",
   "language": "python",
   "name": "python3"
  },
  "language_info": {
   "codemirror_mode": {
    "name": "ipython",
    "version": 3
   },
   "file_extension": ".py",
   "mimetype": "text/x-python",
   "name": "python",
   "nbconvert_exporter": "python",
   "pygments_lexer": "ipython3",
   "version": "3.7.3"
  }
 },
 "nbformat": 4,
 "nbformat_minor": 2
}
